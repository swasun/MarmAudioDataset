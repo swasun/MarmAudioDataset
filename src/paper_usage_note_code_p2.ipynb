{
 "cells": [
  {
   "cell_type": "markdown",
   "metadata": {},
   "source": [
    "Import packages"
   ]
  },
  {
   "cell_type": "code",
   "execution_count": null,
   "metadata": {},
   "outputs": [],
   "source": [
    "from marmaudio.classifier import load_classifier, run_classifier, prediction_to_str\n",
    "\n",
    "import soundfile as sf\n",
    "import glob\n",
    "import pandas as pd\n",
    "import os"
   ]
  },
  {
   "cell_type": "markdown",
   "metadata": {},
   "source": [
    "Load labels"
   ]
  },
  {
   "cell_type": "code",
   "execution_count": null,
   "metadata": {},
   "outputs": [],
   "source": [
    "marmoset_labels = pd.read_csv('resnet50_logMel128_trainsplit_wo_brown_wo_vocs_labels_used.tsv', sep='\\t').label.unique()\n",
    "typetoidx_marmoset = {k:i for i, k in enumerate(marmoset_labels)}\n",
    "idxtotype_marmoset = {typetoidx_marmoset[k]:k for k in typetoidx_marmoset}"
   ]
  },
  {
   "cell_type": "markdown",
   "metadata": {},
   "source": [
    "Load classifier trained to categorize marmoset vocalization type"
   ]
  },
  {
   "cell_type": "code",
   "execution_count": null,
   "metadata": {},
   "outputs": [],
   "source": [
    "clf = load_classifier('resnet50_logMel128_trainsplit_wo_brown_wo_vocs_epoch1.stdc', marmoset_labels)"
   ]
  },
  {
   "cell_type": "markdown",
   "metadata": {},
   "source": [
    "Load some examples"
   ]
  },
  {
   "cell_type": "code",
   "execution_count": null,
   "metadata": {},
   "outputs": [],
   "source": [
    "file_paths = glob.glob('Vocalizations/*/*.wav')[0:10]\n",
    "annotations = pd.read_csv('Annotations.tsv', sep='\\t') # Read the annotations\n",
    "file_names = [os.path.basename(file_path) for file_path in file_paths]\n",
    "file_names = [file_name.replace('.wav', '.flac') for file_name in file_names]\n",
    "true_labels = annotations[annotations.file_name.isin(file_names)].label.tolist()"
   ]
  },
  {
   "cell_type": "markdown",
   "metadata": {},
   "source": [
    "Run the classifier in inference"
   ]
  },
  {
   "cell_type": "code",
   "execution_count": null,
   "metadata": {},
   "outputs": [],
   "source": [
    "predicted_labels = list()\n",
    "for i, file_path in enumerate(file_paths):\n",
    "    signal, sampling_rate = sf.read(file_path) # Read the vocalization waveform and store it as 'signal'\n",
    "    predictions = run_classifier(clf, signal)\n",
    "    predicted_label = prediction_to_str(predictions, idxtotype_marmoset)\n",
    "    predicted_labels.append(predicted_label)\n",
    "    print(f'[{file_path}]  True: {true_labels[i]}  Predicted: {predicted_label}')\n",
    "correct_predictions = sum(1 for true, pred in zip(true_labels, predicted_labels) if true == pred)\n",
    "accuracy = (correct_predictions / len(true_labels)) * 100\n",
    "print(f'Accuracy: {accuracy}%')"
   ]
  }
 ],
 "metadata": {
  "language_info": {
   "name": "python"
  }
 },
 "nbformat": 4,
 "nbformat_minor": 2
}
